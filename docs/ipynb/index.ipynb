{
 "cells": [
  {
   "cell_type": "markdown",
   "metadata": {},
   "source": [
    "# Tutorials\n",
    "\n",
    "The following tutorials are available:\n",
    "\n",
    "- [Tutorial 00: Installation, testing, and upgrade](00-tutorial-installation-testing-upgrade.ipynb)\n",
    "- [Tutorial 01: Reading table OOMMF `.odt` and mumax3 `.txt` files](01-tutorial-reading.ipynb)\n",
    "- [Tutorial 02: Merging OOMMF `.odt` and mumax3 `.txt` files](02-tutorial-merging.ipynb)\n",
    "- [Tutorial 03: Support, License, How to cite, and Acknowledgements](03-tutorial-other.ipynb)\n",
    "\n",
    "All available Jupyter notebooks can be found [here](./)."
   ]
  }
 ],
 "metadata": {
  "kernelspec": {
   "display_name": "Python 3",
   "language": "python",
   "name": "python3"
  },
  "language_info": {
   "codemirror_mode": {
    "name": "ipython",
    "version": 3
   },
   "file_extension": ".py",
   "mimetype": "text/x-python",
   "name": "python",
   "nbconvert_exporter": "python",
   "pygments_lexer": "ipython3",
   "version": "3.7.4"
  }
 },
 "nbformat": 4,
 "nbformat_minor": 2
}
