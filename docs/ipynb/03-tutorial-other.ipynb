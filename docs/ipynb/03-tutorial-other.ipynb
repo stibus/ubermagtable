{
 "cells": [
  {
   "cell_type": "markdown",
   "metadata": {},
   "source": [
    "# Tutorial 03: Support, License, How to cite, and Acknowledgements\n",
    "\n",
    "> Interactive online tutorial:\n",
    "> [![Binder](https://mybinder.org/badge_logo.svg)](https://mybinder.org/v2/gh/ubermag/ubermagtable/master?filepath=docs%2Fipynb%2Findex.ipynb)\n",
    "\n",
    "## Support\n",
    "\n",
    "If you require any support or have any questions, you are welcome to raise an issue in our [ubermag/help](https://github.com/ubermag/help) repository.\n",
    "\n",
    "## License\n",
    "\n",
    "Licensed under the BSD 3-Clause \"New\" or \"Revised\" License. For details, please refer to the [LICENSE](LICENSE) file.\n",
    "\n",
    "## How to cite\n",
    "\n",
    "If you use this package in your research, please cite it as:\n",
    "\n",
    "1. M. Beg, R. A. Pepper, and H. Fangohr. User interfaces for computational science: A domain specific language for OOMMF embedded in Python. [AIP Advances, 7, 56025](http://aip.scitation.org/doi/10.1063/1.4977225) (2017).\n",
    "\n",
    "2. DOI will be available soon\n",
    "\n",
    "## Acknowledgements\n",
    "\n",
    "Developed as a part of [OpenDreamKit](http://opendreamkit.org/) – Horizon 2020 European Research Infrastructure project (676541)."
   ]
  }
 ],
 "metadata": {
  "kernelspec": {
   "display_name": "Python 3",
   "language": "python",
   "name": "python3"
  },
  "language_info": {
   "codemirror_mode": {
    "name": "ipython",
    "version": 3
   },
   "file_extension": ".py",
   "mimetype": "text/x-python",
   "name": "python",
   "nbconvert_exporter": "python",
   "pygments_lexer": "ipython3",
   "version": "3.7.4"
  }
 },
 "nbformat": 4,
 "nbformat_minor": 2
}
