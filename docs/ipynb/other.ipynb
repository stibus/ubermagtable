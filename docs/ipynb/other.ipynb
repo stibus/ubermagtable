{
 "cells": [
  {
   "cell_type": "markdown",
   "metadata": {},
   "source": [
    "# Support, License, How to cite, and Acknowledgements\n",
    "\n",
    "## Support\n",
    "\n",
    "If you require support, have questions, want to report a bug, or want to suggest an improvement, please raise an issue in [ubermag/help](https://github.com/ubermag/help) repository.\n",
    "\n",
    "## License\n",
    "\n",
    "Licensed under the BSD 3-Clause \"New\" or \"Revised\" License. For details, please refer to the LICENSE file.\n",
    "\n",
    "## How to cite\n",
    "\n",
    "If you use this package, please cite it as:\n",
    "\n",
    "1. M. Beg, R. A. Pepper, and H. Fangohr. User interfaces for computational science: A domain specific language for OOMMF embedded in Python. [*AIP Advances* **7**, 56025 (2017)](http://aip.scitation.org/doi/10.1063/1.4977225).\n",
    "\n",
    "2. M. Beg, R. A. Pepper, T. Kluyver, and H. Fangohr. ubermag/discretisedfield: Python package for the analysis and visualisation of finite difference fields. Zenodo. DOI: [10.5281/zenodo.3539461](http://doi.org/10.5281/zenodo.3539461) (2020).\n",
    "\n",
    "## Acknowledgements\n",
    "\n",
    "- [OpenDreamKit](http://opendreamkit.org/) – Horizon 2020 European Research Infrastructure project (676541)\n",
    "\n",
    "- EPSRC Programme grant on [Skyrmionics](http://www.skyrmions.ac.uk) (EP/N032128/1)."
   ]
  }
 ],
 "metadata": {
  "kernelspec": {
   "display_name": "Python 3",
   "language": "python",
   "name": "python3"
  },
  "language_info": {
   "codemirror_mode": {
    "name": "ipython",
    "version": 3
   },
   "file_extension": ".py",
   "mimetype": "text/x-python",
   "name": "python",
   "nbconvert_exporter": "python",
   "pygments_lexer": "ipython3",
   "version": "3.8.3"
  }
 },
 "nbformat": 4,
 "nbformat_minor": 4
}
