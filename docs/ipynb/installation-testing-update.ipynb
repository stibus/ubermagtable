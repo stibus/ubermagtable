{
 "cells": [
  {
   "cell_type": "markdown",
   "metadata": {},
   "source": [
    "# Installation, testing, and update\n",
    "\n",
    "## Installation\n",
    "\n",
    "We recommend installation using `conda` package manager. If you do not already have it installed, download [Anaconda](https://www.anaconda.com/download) Python 3.7+ for your operating system and follow the instructions to install it. After the installation is complete, in Terminal (Linux and MacOS) or in Anaconda Prompt (Windows), create a new conda environment and activate it. \n",
    "```\n",
    "$ conda create -n ENVIRONMENT_NAME python=3\n",
    "$ conda activate ENVIRONMENT_NAME\n",
    "```\n",
    "Instead of `ENVIRONMENT_NAME`, choose the name you want. Finally, `ubermagtable` is installed by running\n",
    "```\n",
    "$ conda install --channel conda-forge ubermagtable\n",
    "```\n",
    "\n",
    "## Testing\n",
    "\n",
    "You can test the installation by running:\n",
    "```\n",
    "$ python -c \"import ubermagtable; ubermagtable.test()\"\n",
    "```\n",
    "If no errors are reported, the installation was sucessful.\n",
    "\n",
    "## Update\n",
    "\n",
    "`ubermagtable` is updated by running:\n",
    "```\n",
    "$ conda update ubermagtable\n",
    "```\n",
    "\n",
    "## Other\n",
    "\n",
    "For further information on the `conda` package, dependency, and environment management, please refer to its [documentation](https://conda.io/docs/)."
   ]
  }
 ],
 "metadata": {
  "kernelspec": {
   "display_name": "Python 3",
   "language": "python",
   "name": "python3"
  },
  "language_info": {
   "codemirror_mode": {
    "name": "ipython",
    "version": 3
   },
   "file_extension": ".py",
   "mimetype": "text/x-python",
   "name": "python",
   "nbconvert_exporter": "python",
   "pygments_lexer": "ipython3",
   "version": "3.8.3"
  }
 },
 "nbformat": 4,
 "nbformat_minor": 4
}
