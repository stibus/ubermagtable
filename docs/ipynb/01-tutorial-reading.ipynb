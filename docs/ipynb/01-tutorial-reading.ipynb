{
 "cells": [
  {
   "cell_type": "markdown",
   "metadata": {},
   "source": [
    "# Tutorial 1: Reading OOMMF `.odt` files\n",
    "\n",
    "OOMMF saves the scalar data of micromagnetic simulations in `.odt` files. `oommfodt` is a convenience tool which provides functions for reading different types of information from those files.\n",
    "\n",
    "### Columns\n",
    "\n",
    "Colums from `.odt` files can be extracted using `oommfodt.columns` function. By default, names of columns are going to be renamed to shorter versions."
   ]
  },
  {
   "cell_type": "code",
   "execution_count": 1,
   "metadata": {},
   "outputs": [],
   "source": [
    "import os\n",
    "import oommfodt as oo\n",
    "\n",
    "# Sample .odt file\n",
    "sample_dirname = os.path.join('..', '..', 'oommfodt', 'tests', 'test_sample')\n",
    "odtfile = os.path.join(sample_dirname, 'file8.odt')\n",
    "\n",
    "columns = oo.columns(odtfile)"
   ]
  },
  {
   "cell_type": "markdown",
   "metadata": {},
   "source": [
    "The result is a list of strings:"
   ]
  },
  {
   "cell_type": "code",
   "execution_count": 2,
   "metadata": {},
   "outputs": [
    {
     "data": {
      "text/plain": [
       "['E',\n",
       " 'Energycalccount',\n",
       " 'Maxdm/dt',\n",
       " 'dE/dt',\n",
       " 'DeltaE',\n",
       " 'E_Exchange',\n",
       " 'MaxSpinAng',\n",
       " 'StageMaxSpinAng',\n",
       " 'RunMaxSpinAng',\n",
       " 'E_Zeeman',\n",
       " 'Iteration',\n",
       " 'Stageiteration',\n",
       " 'Stage',\n",
       " 'mx',\n",
       " 'my',\n",
       " 'mz',\n",
       " 'Lasttimestep',\n",
       " 't']"
      ]
     },
     "execution_count": 2,
     "metadata": {},
     "output_type": "execute_result"
    }
   ],
   "source": [
    "columns"
   ]
  },
  {
   "cell_type": "markdown",
   "metadata": {},
   "source": [
    "To prevent `oommfodt` from renaming columns, `rename=False`, should be passed:"
   ]
  },
  {
   "cell_type": "code",
   "execution_count": 3,
   "metadata": {},
   "outputs": [
    {
     "data": {
      "text/plain": [
       "['RungeKuttaEvolve::Totalenergy',\n",
       " 'RungeKuttaEvolve::Energycalccount',\n",
       " 'RungeKuttaEvolve::Maxdm/dt',\n",
       " 'RungeKuttaEvolve::dE/dt',\n",
       " 'RungeKuttaEvolve::DeltaE',\n",
       " 'UniformExchange::Energy',\n",
       " 'UniformExchange::MaxSpinAng',\n",
       " 'UniformExchange::StageMaxSpinAng',\n",
       " 'UniformExchange::RunMaxSpinAng',\n",
       " 'FixedZeeman::Energy',\n",
       " 'TimeDriver::Iteration',\n",
       " 'TimeDriver::Stageiteration',\n",
       " 'TimeDriver::Stage',\n",
       " 'TimeDriver::mx',\n",
       " 'TimeDriver::my',\n",
       " 'TimeDriver::mz',\n",
       " 'TimeDriver::Lasttimestep',\n",
       " 'TimeDriver::Simulationtime']"
      ]
     },
     "execution_count": 3,
     "metadata": {},
     "output_type": "execute_result"
    }
   ],
   "source": [
    "oo.columns(odtfile, rename=False)"
   ]
  },
  {
   "cell_type": "markdown",
   "metadata": {},
   "source": [
    "### Units\n",
    "\n",
    "Units of individual columns are extracted using `oommfodt.units` function, which return a dictionary whose keys are the names of individual columns and values are the units. To prevent renaming of `rename=False` should be passed (as shown previously)."
   ]
  },
  {
   "cell_type": "code",
   "execution_count": 4,
   "metadata": {},
   "outputs": [
    {
     "data": {
      "text/plain": [
       "{'E': 'J',\n",
       " 'Energycalccount': '',\n",
       " 'Maxdm/dt': 'deg/ns',\n",
       " 'dE/dt': 'J/s',\n",
       " 'DeltaE': 'J',\n",
       " 'E_Exchange': 'J',\n",
       " 'MaxSpinAng': 'deg',\n",
       " 'StageMaxSpinAng': 'deg',\n",
       " 'RunMaxSpinAng': 'deg',\n",
       " 'E_Zeeman': 'J',\n",
       " 'Iteration': '',\n",
       " 'Stageiteration': '',\n",
       " 'Stage': '',\n",
       " 'mx': '',\n",
       " 'my': '',\n",
       " 'mz': '',\n",
       " 'Lasttimestep': 's',\n",
       " 't': 's'}"
      ]
     },
     "execution_count": 4,
     "metadata": {},
     "output_type": "execute_result"
    }
   ],
   "source": [
    "oo.units(odtfile)"
   ]
  },
  {
   "cell_type": "markdown",
   "metadata": {},
   "source": [
    "If unit is an empty string, this means that this column contains values with no units."
   ]
  },
  {
   "cell_type": "markdown",
   "metadata": {},
   "source": [
    "### Data\n",
    "\n",
    "Numerical data is extracted using `oommfodt.data` function. It returns a list of lists. Each list contains one line of numerical data as floats."
   ]
  },
  {
   "cell_type": "code",
   "execution_count": 5,
   "metadata": {},
   "outputs": [
    {
     "data": {
      "text/plain": [
       "[[-5.438515601330624e-18,\n",
       "  37.0,\n",
       "  12408.729175234907,\n",
       "  -1.15163330347373e-07,\n",
       "  -8.51798437889563e-20,\n",
       "  0.0,\n",
       "  0.0,\n",
       "  0.0,\n",
       "  0.0,\n",
       "  -5.438515601330624e-18,\n",
       "  6.0,\n",
       "  6.0,\n",
       "  0.0,\n",
       "  0.9558912347990832,\n",
       "  0.21477140490627555,\n",
       "  0.20036264838753717,\n",
       "  7.391624450940276e-13,\n",
       "  1e-12],\n",
       " [-5.553576129812791e-18,\n",
       "  44.0,\n",
       "  12397.62808709448,\n",
       "  -1.1495736785033893e-07,\n",
       "  -1.1506052848216642e-19,\n",
       "  0.0,\n",
       "  0.0,\n",
       "  0.0,\n",
       "  0.0,\n",
       "  -5.553576129812791e-18,\n",
       "  8.0,\n",
       "  1.0,\n",
       "  1.0,\n",
       "  0.8847665943078092,\n",
       "  0.41871976516437714,\n",
       "  0.2046016418742739,\n",
       "  1e-12,\n",
       "  2e-12],\n",
       " [-5.6684287262409756e-18,\n",
       "  51.0,\n",
       "  12386.305051366755,\n",
       "  -1.1474747738525374e-07,\n",
       "  -1.1485259642818445e-19,\n",
       "  0.0,\n",
       "  0.0,\n",
       "  0.0,\n",
       "  0.0,\n",
       "  -5.6684287262409756e-18,\n",
       "  10.0,\n",
       "  1.0,\n",
       "  2.0,\n",
       "  0.7707507340663095,\n",
       "  0.6019402749045681,\n",
       "  0.20883297484846003,\n",
       "  1e-12,\n",
       "  3e-12],\n",
       " [-5.7830694779684045e-18,\n",
       "  58.0,\n",
       "  12374.761117493426,\n",
       "  -1.1453368965597123e-07,\n",
       "  -1.1464075172742942e-19,\n",
       "  0.0,\n",
       "  0.0,\n",
       "  0.0,\n",
       "  0.0,\n",
       "  -5.7830694779684045e-18,\n",
       "  12.0,\n",
       "  1.0,\n",
       "  3.0,\n",
       "  0.6194698815933712,\n",
       "  0.7555554197137418,\n",
       "  0.21305650316262464,\n",
       "  1e-12,\n",
       "  4e-12],\n",
       " [-5.897494503294004e-18,\n",
       "  65.0,\n",
       "  12362.997352999673,\n",
       "  -1.1431603584795076e-07,\n",
       "  -1.1442502532559996e-19,\n",
       "  0.0,\n",
       "  0.0,\n",
       "  0.0,\n",
       "  0.0,\n",
       "  -5.897494503294004e-18,\n",
       "  14.0,\n",
       "  1.0,\n",
       "  4.0,\n",
       "  0.43835451831561995,\n",
       "  0.8721457205475527,\n",
       "  0.21727208380938032,\n",
       "  1e-12,\n",
       "  5e-12]]"
      ]
     },
     "execution_count": 5,
     "metadata": {},
     "output_type": "execute_result"
    }
   ],
   "source": [
    "oo.data(odtfile)"
   ]
  },
  {
   "cell_type": "markdown",
   "metadata": {},
   "source": [
    "### Read `.odt` file as `pandas.DataFrame`\n",
    "\n",
    "To read an OOMMF `.odt` file as `pandas.DataFrame`, `oommfodt.read` function should be used. Similar to `oommfodt.columns`, `rename` flag can be passed. Because there is no standard way of adding units (metadata) to columns in `pandas.DataFrame`, units from the `.odt` file ar ignored and should be extracted separately."
   ]
  },
  {
   "cell_type": "code",
   "execution_count": 6,
   "metadata": {},
   "outputs": [],
   "source": [
    "df = oo.read(odtfile)"
   ]
  },
  {
   "cell_type": "markdown",
   "metadata": {},
   "source": [
    "`df` is now a `pandas.DataFrame` all operations that can be applied can be found in [pandas documentation](http://pandas.pydata.org/pandas-docs/stable/)."
   ]
  },
  {
   "cell_type": "code",
   "execution_count": 7,
   "metadata": {},
   "outputs": [
    {
     "data": {
      "text/html": [
       "<div>\n",
       "<style scoped>\n",
       "    .dataframe tbody tr th:only-of-type {\n",
       "        vertical-align: middle;\n",
       "    }\n",
       "\n",
       "    .dataframe tbody tr th {\n",
       "        vertical-align: top;\n",
       "    }\n",
       "\n",
       "    .dataframe thead th {\n",
       "        text-align: right;\n",
       "    }\n",
       "</style>\n",
       "<table border=\"1\" class=\"dataframe\">\n",
       "  <thead>\n",
       "    <tr style=\"text-align: right;\">\n",
       "      <th></th>\n",
       "      <th>E</th>\n",
       "      <th>Energycalccount</th>\n",
       "      <th>Maxdm/dt</th>\n",
       "      <th>dE/dt</th>\n",
       "      <th>DeltaE</th>\n",
       "      <th>E_Exchange</th>\n",
       "      <th>MaxSpinAng</th>\n",
       "      <th>StageMaxSpinAng</th>\n",
       "      <th>RunMaxSpinAng</th>\n",
       "      <th>E_Zeeman</th>\n",
       "      <th>Iteration</th>\n",
       "      <th>Stageiteration</th>\n",
       "      <th>Stage</th>\n",
       "      <th>mx</th>\n",
       "      <th>my</th>\n",
       "      <th>mz</th>\n",
       "      <th>Lasttimestep</th>\n",
       "      <th>t</th>\n",
       "    </tr>\n",
       "  </thead>\n",
       "  <tbody>\n",
       "    <tr>\n",
       "      <th>0</th>\n",
       "      <td>-5.438516e-18</td>\n",
       "      <td>37.0</td>\n",
       "      <td>12408.729175</td>\n",
       "      <td>-1.151633e-07</td>\n",
       "      <td>-8.517984e-20</td>\n",
       "      <td>0.0</td>\n",
       "      <td>0.0</td>\n",
       "      <td>0.0</td>\n",
       "      <td>0.0</td>\n",
       "      <td>-5.438516e-18</td>\n",
       "      <td>6.0</td>\n",
       "      <td>6.0</td>\n",
       "      <td>0.0</td>\n",
       "      <td>0.955891</td>\n",
       "      <td>0.214771</td>\n",
       "      <td>0.200363</td>\n",
       "      <td>7.391624e-13</td>\n",
       "      <td>1.000000e-12</td>\n",
       "    </tr>\n",
       "    <tr>\n",
       "      <th>1</th>\n",
       "      <td>-5.553576e-18</td>\n",
       "      <td>44.0</td>\n",
       "      <td>12397.628087</td>\n",
       "      <td>-1.149574e-07</td>\n",
       "      <td>-1.150605e-19</td>\n",
       "      <td>0.0</td>\n",
       "      <td>0.0</td>\n",
       "      <td>0.0</td>\n",
       "      <td>0.0</td>\n",
       "      <td>-5.553576e-18</td>\n",
       "      <td>8.0</td>\n",
       "      <td>1.0</td>\n",
       "      <td>1.0</td>\n",
       "      <td>0.884767</td>\n",
       "      <td>0.418720</td>\n",
       "      <td>0.204602</td>\n",
       "      <td>1.000000e-12</td>\n",
       "      <td>2.000000e-12</td>\n",
       "    </tr>\n",
       "    <tr>\n",
       "      <th>2</th>\n",
       "      <td>-5.668429e-18</td>\n",
       "      <td>51.0</td>\n",
       "      <td>12386.305051</td>\n",
       "      <td>-1.147475e-07</td>\n",
       "      <td>-1.148526e-19</td>\n",
       "      <td>0.0</td>\n",
       "      <td>0.0</td>\n",
       "      <td>0.0</td>\n",
       "      <td>0.0</td>\n",
       "      <td>-5.668429e-18</td>\n",
       "      <td>10.0</td>\n",
       "      <td>1.0</td>\n",
       "      <td>2.0</td>\n",
       "      <td>0.770751</td>\n",
       "      <td>0.601940</td>\n",
       "      <td>0.208833</td>\n",
       "      <td>1.000000e-12</td>\n",
       "      <td>3.000000e-12</td>\n",
       "    </tr>\n",
       "    <tr>\n",
       "      <th>3</th>\n",
       "      <td>-5.783069e-18</td>\n",
       "      <td>58.0</td>\n",
       "      <td>12374.761117</td>\n",
       "      <td>-1.145337e-07</td>\n",
       "      <td>-1.146408e-19</td>\n",
       "      <td>0.0</td>\n",
       "      <td>0.0</td>\n",
       "      <td>0.0</td>\n",
       "      <td>0.0</td>\n",
       "      <td>-5.783069e-18</td>\n",
       "      <td>12.0</td>\n",
       "      <td>1.0</td>\n",
       "      <td>3.0</td>\n",
       "      <td>0.619470</td>\n",
       "      <td>0.755555</td>\n",
       "      <td>0.213057</td>\n",
       "      <td>1.000000e-12</td>\n",
       "      <td>4.000000e-12</td>\n",
       "    </tr>\n",
       "    <tr>\n",
       "      <th>4</th>\n",
       "      <td>-5.897495e-18</td>\n",
       "      <td>65.0</td>\n",
       "      <td>12362.997353</td>\n",
       "      <td>-1.143160e-07</td>\n",
       "      <td>-1.144250e-19</td>\n",
       "      <td>0.0</td>\n",
       "      <td>0.0</td>\n",
       "      <td>0.0</td>\n",
       "      <td>0.0</td>\n",
       "      <td>-5.897495e-18</td>\n",
       "      <td>14.0</td>\n",
       "      <td>1.0</td>\n",
       "      <td>4.0</td>\n",
       "      <td>0.438355</td>\n",
       "      <td>0.872146</td>\n",
       "      <td>0.217272</td>\n",
       "      <td>1.000000e-12</td>\n",
       "      <td>5.000000e-12</td>\n",
       "    </tr>\n",
       "  </tbody>\n",
       "</table>\n",
       "</div>"
      ],
      "text/plain": [
       "              E  Energycalccount      Maxdm/dt         dE/dt        DeltaE  \\\n",
       "0 -5.438516e-18             37.0  12408.729175 -1.151633e-07 -8.517984e-20   \n",
       "1 -5.553576e-18             44.0  12397.628087 -1.149574e-07 -1.150605e-19   \n",
       "2 -5.668429e-18             51.0  12386.305051 -1.147475e-07 -1.148526e-19   \n",
       "3 -5.783069e-18             58.0  12374.761117 -1.145337e-07 -1.146408e-19   \n",
       "4 -5.897495e-18             65.0  12362.997353 -1.143160e-07 -1.144250e-19   \n",
       "\n",
       "   E_Exchange  MaxSpinAng  StageMaxSpinAng  RunMaxSpinAng      E_Zeeman  \\\n",
       "0         0.0         0.0              0.0            0.0 -5.438516e-18   \n",
       "1         0.0         0.0              0.0            0.0 -5.553576e-18   \n",
       "2         0.0         0.0              0.0            0.0 -5.668429e-18   \n",
       "3         0.0         0.0              0.0            0.0 -5.783069e-18   \n",
       "4         0.0         0.0              0.0            0.0 -5.897495e-18   \n",
       "\n",
       "   Iteration  Stageiteration  Stage        mx        my        mz  \\\n",
       "0        6.0             6.0    0.0  0.955891  0.214771  0.200363   \n",
       "1        8.0             1.0    1.0  0.884767  0.418720  0.204602   \n",
       "2       10.0             1.0    2.0  0.770751  0.601940  0.208833   \n",
       "3       12.0             1.0    3.0  0.619470  0.755555  0.213057   \n",
       "4       14.0             1.0    4.0  0.438355  0.872146  0.217272   \n",
       "\n",
       "   Lasttimestep             t  \n",
       "0  7.391624e-13  1.000000e-12  \n",
       "1  1.000000e-12  2.000000e-12  \n",
       "2  1.000000e-12  3.000000e-12  \n",
       "3  1.000000e-12  4.000000e-12  \n",
       "4  1.000000e-12  5.000000e-12  "
      ]
     },
     "execution_count": 7,
     "metadata": {},
     "output_type": "execute_result"
    }
   ],
   "source": [
    "df"
   ]
  },
  {
   "cell_type": "markdown",
   "metadata": {},
   "source": [
    "### Other\n",
    "\n",
    "Full description of all existing functions can be found in the [API Reference](https://oommfodt.readthedocs.io/en/latest/api-reference.html)."
   ]
  }
 ],
 "metadata": {
  "kernelspec": {
   "display_name": "Python 3",
   "language": "python",
   "name": "python3"
  },
  "language_info": {
   "codemirror_mode": {
    "name": "ipython",
    "version": 3
   },
   "file_extension": ".py",
   "mimetype": "text/x-python",
   "name": "python",
   "nbconvert_exporter": "python",
   "pygments_lexer": "ipython3",
   "version": "3.6.2"
  }
 },
 "nbformat": 4,
 "nbformat_minor": 2
}
