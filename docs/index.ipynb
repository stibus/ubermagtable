{
 "cells": [
  {
   "cell_type": "markdown",
   "metadata": {},
   "source": [
    "# Tutorials\n",
    "\n",
    "## General information:\n",
    "\n",
    "- [Installation, testing, and update](installation-testing-update.ipynb)\n",
    "- [Support, License, How to cite, and Acknowledgements](other.ipynb)\n",
    "\n",
    "## Table operations\n",
    "\n",
    "- [Table basics](table-basics.ipynb)\n",
    "- [Merging tables](table-merge.ipynb)\n",
    "- [Table widgets](table-widgets.ipynb)\n",
    "\n",
    "## Table Visualisation\n",
    "\n",
    "- [Table visualisation basics](table-visualisation.ipynb)\n",
    "- [Interactive table plotting](table-interactive-plot.ipynb)"
   ]
  }
 ],
 "metadata": {
  "kernelspec": {
   "display_name": "Python 3",
   "language": "python",
   "name": "python3"
  },
  "language_info": {
   "codemirror_mode": {
    "name": "ipython",
    "version": 3
   },
   "file_extension": ".py",
   "mimetype": "text/x-python",
   "name": "python",
   "nbconvert_exporter": "python",
   "pygments_lexer": "ipython3",
   "version": "3.8.5"
  },
  "widgets": {
   "application/vnd.jupyter.widget-state+json": {
    "state": {},
    "version_major": 2,
    "version_minor": 0
   }
  }
 },
 "nbformat": 4,
 "nbformat_minor": 4
}
