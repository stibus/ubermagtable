{
 "cells": [
  {
   "cell_type": "markdown",
   "metadata": {},
   "source": [
    "# Installation, testing, and update\n",
    "\n",
    "## Installation\n",
    "\n",
    "We recommend installation using `conda` package manager. If you do not already have it installed, download [Anaconda](https://www.anaconda.com/download) Python 3+ for your operating system and follow the instructions to install it. After the installation is complete, in Terminal (Linux and MacOS) or in Anaconda Prompt (Windows), create a new conda environment and activate it. \n",
    "```\n",
    "$ conda create -n ENVIRONMENT_NAME python=3.8\n",
    "$ conda activate ENVIRONMENT_NAME\n",
    "```\n",
    "Instead of `ENVIRONMENT_NAME`, choose the name you want. Finally, `ubermagtable` is installed by running\n",
    "```\n",
    "$ conda install --channel conda-forge ubermagtable\n",
    "```\n",
    "\n",
    "## Testing\n",
    "\n",
    "You can test the installation by running:\n",
    "```\n",
    "$ python -c \"import ubermagtable; ubermagtable.test()\"\n",
    "```\n",
    "If no errors are reported, the installation was sucessful.\n",
    "\n",
    "## Update\n",
    "\n",
    "`ubermagtable` is updated by running:\n",
    "```\n",
    "$ conda update ubermagtable\n",
    "```"
   ]
  }
 ],
 "metadata": {
  "kernelspec": {
   "display_name": "Python 3",
   "language": "python",
   "name": "python3"
  },
  "language_info": {
   "codemirror_mode": {
    "name": "ipython",
    "version": 3
   },
   "file_extension": ".py",
   "mimetype": "text/x-python",
   "name": "python",
   "nbconvert_exporter": "python",
   "pygments_lexer": "ipython3",
   "version": "3.8.5"
  },
  "widgets": {
   "application/vnd.jupyter.widget-state+json": {
    "state": {},
    "version_major": 2,
    "version_minor": 0
   }
  }
 },
 "nbformat": 4,
 "nbformat_minor": 4
}
